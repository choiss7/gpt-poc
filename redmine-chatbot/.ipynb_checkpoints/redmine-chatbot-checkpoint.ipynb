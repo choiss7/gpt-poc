{
 "cells": [
  {
   "cell_type": "markdown",
   "metadata": {},
   "source": [
    "# 레드마인 활용 생성형 AI(ChatGPT)와 RAG 연동 POC\n",
    "\n",
    "> \n",
    "\n",
    "- 레드마인 문서 자연어 처리 ChatBot\n",
    "- LangChain\n",
    "- ChatGPT (gpt-3.5-turbo)\n",
    "- ChromaDB\n",
    "\n",
    "> https://partner.medialog.co.kr/projects/rag-gen-ai-chatgpt-poc\n"
   ]
  },
  {
   "cell_type": "code",
   "execution_count": 5,
   "metadata": {},
   "outputs": [
    {
     "name": "stdout",
     "output_type": "stream",
     "text": [
      "/home/msg-platfm/redmine-chatbot\n",
      "total 172\n",
      "drwxrwxr-x  6 msg-platfm msg-platfm  4096  4월  8 18:36 .\n",
      "drwxr-x--- 11 msg-platfm msg-platfm  4096  4월  8 18:27 ..\n",
      "drwxrwxr-x  3 msg-platfm msg-platfm  4096  4월  8 11:37 articles\n",
      "drwxrwxr-x  3 msg-platfm msg-platfm  4096  4월  8 11:37 articles_redmine\n",
      "drwxrwxr-x  3 msg-platfm msg-platfm  4096  4월  8 17:59 db\n",
      "drwxrwxr-x  2 msg-platfm msg-platfm  4096  4월  8 10:57 .ipynb_checkpoints\n",
      "-rw-r--r--  1 msg-platfm msg-platfm 68750  4월  8 18:36 redmine-chatbot.ipynb\n",
      "-rw-rw-r--  1 msg-platfm msg-platfm 79974  4월  8 10:20 techcrunch-articles.zip\n",
      "2024. 04. 08. (월) 20:45:57 KST\n",
      " Static hostname: msgplatfm-virtual-machine\n",
      "       Icon name: computer-vm\n",
      "         Chassis: vm\n",
      "      Machine ID: 1be3213771fc4a9e9432ce9675c63136\n",
      "         Boot ID: 2d6d7d821f6148b884d124f1ecd01a0b\n",
      "  Virtualization: vmware\n",
      "Operating System: \u001b]8;;https://www.ubuntu.com/\u0007Ubuntu 22.04.4 LTS\u001b]8;;\u0007              \n",
      "          Kernel: Linux 6.5.0-26-generic\n",
      "    Architecture: x86-64\n",
      " Hardware Vendor: VMware, Inc.\n",
      "  Hardware Model: VMware20,1\n",
      "/bin/bash: line 1: nvidia-smi: command not found\n"
     ]
    }
   ],
   "source": [
    "# 주피터 랩 시스템 확인 \n",
    "!pwd\n",
    "!ls -al\n",
    "!date\n",
    "!hostnamectl\n",
    "!nvidia-smi  #현재 내부 개발장비에 GPU 부착되어 있지 않음"
   ]
  },
  {
   "cell_type": "code",
   "execution_count": 13,
   "metadata": {
    "colab": {
     "base_uri": "https://localhost:8080/"
    },
    "id": "RRYSu48huSUW",
    "outputId": "83d936fc-d249-4d47-aca7-a10e3c83ee09"
   },
   "outputs": [],
   "source": [
    "#!pip install -q langchain openai tiktoken chromadb"
   ]
  },
  {
   "cell_type": "markdown",
   "metadata": {
    "id": "XJTc_m1GWTfz"
   },
   "source": [
    "## 외부 문서 불러와서  로컬에 저장 테스트\n",
    "\n",
    "> TechCrunch 기사 21개"
   ]
  },
  {
   "cell_type": "code",
   "execution_count": 14,
   "metadata": {
    "id": "l6XPLPVrqEaV"
   },
   "outputs": [],
   "source": [
    "#!wget -q https://github.com/kairess/toy-datasets/raw/master/techcrunch-articles.zip\n",
    "#!unzip -q techcrunch-articles.zip -d articles"
   ]
  },
  {
   "cell_type": "markdown",
   "metadata": {},
   "source": [
    "## 레드마인 문서 가져 와서 파일별로 저장하기"
   ]
  },
  {
   "cell_type": "code",
   "execution_count": 13,
   "metadata": {},
   "outputs": [
    {
     "name": "stdout",
     "output_type": "stream",
     "text": [
      "Defaulting to user installation because normal site-packages is not writeable\n",
      "Requirement already satisfied: requests in /usr/local/lib/python3.10/dist-packages (2.31.0)\n",
      "Requirement already satisfied: beautifulsoup4 in /usr/local/lib/python3.10/dist-packages (4.12.3)\n",
      "Requirement already satisfied: urllib3<3,>=1.21.1 in /usr/lib/python3/dist-packages (from requests) (1.26.5)\n",
      "Requirement already satisfied: charset-normalizer<4,>=2 in /usr/local/lib/python3.10/dist-packages (from requests) (3.3.2)\n",
      "Requirement already satisfied: idna<4,>=2.5 in /usr/lib/python3/dist-packages (from requests) (3.3)\n",
      "Requirement already satisfied: certifi>=2017.4.17 in /usr/lib/python3/dist-packages (from requests) (2020.6.20)\n",
      "Requirement already satisfied: soupsieve>1.2 in /usr/local/lib/python3.10/dist-packages (from beautifulsoup4) (2.5)\n"
     ]
    }
   ],
   "source": [
    "!pip install requests beautifulsoup4"
   ]
  },
  {
   "cell_type": "code",
   "execution_count": 25,
   "metadata": {},
   "outputs": [
    {
     "name": "stdout",
     "output_type": "stream",
     "text": [
      "f3ebd802a2b5b097021f31c3628af7b9e2191f1b\n",
      "Saved: articles_redmine/Redmine.txt\n",
      "Saved: articles_redmine/Wiki.txt\n"
     ]
    },
    {
     "name": "stderr",
     "output_type": "stream",
     "text": [
      "/usr/lib/python3/dist-packages/urllib3/connectionpool.py:1020: InsecureRequestWarning: Unverified HTTPS request is being made to host 'partner.medialog.co.kr'. Adding certificate verification is strongly advised. See: https://urllib3.readthedocs.io/en/latest/advanced-usage.html#ssl-warnings\n",
      "  warnings.warn(\n",
      "/usr/lib/python3/dist-packages/urllib3/connectionpool.py:1020: InsecureRequestWarning: Unverified HTTPS request is being made to host 'partner.medialog.co.kr'. Adding certificate verification is strongly advised. See: https://urllib3.readthedocs.io/en/latest/advanced-usage.html#ssl-warnings\n",
      "  warnings.warn(\n",
      "/usr/lib/python3/dist-packages/urllib3/connectionpool.py:1020: InsecureRequestWarning: Unverified HTTPS request is being made to host 'partner.medialog.co.kr'. Adding certificate verification is strongly advised. See: https://urllib3.readthedocs.io/en/latest/advanced-usage.html#ssl-warnings\n",
      "  warnings.warn(\n",
      "/usr/lib/python3/dist-packages/urllib3/connectionpool.py:1020: InsecureRequestWarning: Unverified HTTPS request is being made to host 'partner.medialog.co.kr'. Adding certificate verification is strongly advised. See: https://urllib3.readthedocs.io/en/latest/advanced-usage.html#ssl-warnings\n",
      "  warnings.warn(\n"
     ]
    },
    {
     "name": "stdout",
     "output_type": "stream",
     "text": [
      "Saved: articles_redmine/기업솔루션사업담당소개.txt\n",
      "Saved: articles_redmine/도서.txt\n",
      "Saved: articles_redmine/메시징플랫폼개발팀원_페르소나.txt\n",
      "Saved: articles_redmine/문서.txt\n"
     ]
    },
    {
     "name": "stderr",
     "output_type": "stream",
     "text": [
      "/usr/lib/python3/dist-packages/urllib3/connectionpool.py:1020: InsecureRequestWarning: Unverified HTTPS request is being made to host 'partner.medialog.co.kr'. Adding certificate verification is strongly advised. See: https://urllib3.readthedocs.io/en/latest/advanced-usage.html#ssl-warnings\n",
      "  warnings.warn(\n",
      "/usr/lib/python3/dist-packages/urllib3/connectionpool.py:1020: InsecureRequestWarning: Unverified HTTPS request is being made to host 'partner.medialog.co.kr'. Adding certificate verification is strongly advised. See: https://urllib3.readthedocs.io/en/latest/advanced-usage.html#ssl-warnings\n",
      "  warnings.warn(\n",
      "/usr/lib/python3/dist-packages/urllib3/connectionpool.py:1020: InsecureRequestWarning: Unverified HTTPS request is being made to host 'partner.medialog.co.kr'. Adding certificate verification is strongly advised. See: https://urllib3.readthedocs.io/en/latest/advanced-usage.html#ssl-warnings\n",
      "  warnings.warn(\n",
      "/usr/lib/python3/dist-packages/urllib3/connectionpool.py:1020: InsecureRequestWarning: Unverified HTTPS request is being made to host 'partner.medialog.co.kr'. Adding certificate verification is strongly advised. See: https://urllib3.readthedocs.io/en/latest/advanced-usage.html#ssl-warnings\n",
      "  warnings.warn(\n"
     ]
    },
    {
     "name": "stdout",
     "output_type": "stream",
     "text": [
      "Saved: articles_redmine/미디어로그회사소개.txt\n"
     ]
    }
   ],
   "source": [
    "import requests\n",
    "from bs4 import BeautifulSoup  # 이 부분을 수정했습니다.\n",
    "\n",
    "import os\n",
    "REDMINE_API_KEY = os.getenv(\"REDMINE_API_KEY\")\n",
    "\n",
    "# 레드마인 서버 설정\n",
    "REDMINE_URL = 'https://partner.medialog.co.kr'\n",
    "REDMINE_API_KEY = os.getenv(\"REDMINE_API_KEY\")\n",
    "PROJECT_ID = 'rag-gen-ai-chatgpt-poc'\n",
    "\n",
    "# 위키 페이지 목록을 가져오는 URL\n",
    "WIKI_INDEX_URL = f\"{REDMINE_URL}/projects/{PROJECT_ID}/wiki/index.json\"\n",
    "\n",
    "headers = {\n",
    "    \"X-Redmine-API-Key\": REDMINE_API_KEY\n",
    "}\n",
    "\n",
    "def get_wiki_pages():\n",
    "    \"\"\"위키 페이지 목록을 가져옵니다.\"\"\"\n",
    "    response = requests.get(WIKI_INDEX_URL, headers=headers, verify=False)  # SSL 인증서 검증을 무시\n",
    "    if response.status_code == 200:\n",
    "        data = response.json()\n",
    "        # API 응답 구조에 따라 적절한 키를 사용하여 실제 페이지 목록을 반환\n",
    "        return data.get('wiki_pages', [])  # 'wiki_pages'는 예시 키입니다. 실제 키는 API 문서를 참조하세요.\n",
    "    else:\n",
    "        print(f\"Error fetching wiki pages: {response.status_code}\")\n",
    "        return []\n",
    "def save_wiki_page(title, content):\n",
    "    \"\"\"위키 페이지 내용을 db 폴더에 파일로 저장합니다.\"\"\"\n",
    "    # 'db' 폴더 경로 설정\n",
    "    folder_path = 'articles_redmine'\n",
    "    \n",
    "    # 'db' 폴더가 없으면 생성\n",
    "    if not os.path.exists(folder_path):\n",
    "        os.makedirs(folder_path)\n",
    "    \n",
    "    # 파일 경로를 폴더 경로와 파일 이름으로 구성\n",
    "    filename = os.path.join(folder_path, f\"{title}.txt\")\n",
    "    \n",
    "    with open(filename, 'w', encoding='utf-8') as file:\n",
    "        file.write(content)\n",
    "    print(f\"Saved: {filename}\")\n",
    "\n",
    "def main():\n",
    "    wiki_pages = get_wiki_pages()\n",
    "    \n",
    "    for page in wiki_pages:\n",
    "        page_url = f\"{REDMINE_URL}/projects/{PROJECT_ID}/wiki/{page['title']}.json\"\n",
    "        # 여기에 verify=False 옵션을 추가했습니다.\n",
    "        response = requests.get(page_url, headers=headers, verify=False)\n",
    "\n",
    "\n",
    "        if response.status_code == 200:\n",
    "            page_data = response.json()\n",
    "            # 'text'에 접근하기 전에 'wiki_page' 키를 사용\n",
    "            soup = BeautifulSoup(page_data['wiki_page']['text'], 'html.parser')\n",
    "            text_without_tags = soup.get_text(separator='\\n', strip=True)\n",
    "            save_wiki_page(page_data['wiki_page']['title'], text_without_tags)\n",
    "        else:\n",
    "            print(f\"Error fetching page {page['title']}: {response.status_code}\")\n",
    "\n",
    "    \n",
    "      \n",
    "if __name__ == \"__main__\":\n",
    "    main()\n"
   ]
  },
  {
   "cell_type": "markdown",
   "metadata": {
    "id": "HqwsGJDhvAQ5"
   },
   "source": [
    "## Setting up LangChain\n",
    "OpenAI APIKey  확인\n",
    "https://platform.openai.com/account/api-keys   "
   ]
  },
  {
   "cell_type": "code",
   "execution_count": 26,
   "metadata": {
    "id": "dNA4TsHpu6OM"
   },
   "outputs": [
    {
     "name": "stdout",
     "output_type": "stream",
     "text": [
      "OpenAI API Key found:\n"
     ]
    }
   ],
   "source": [
    "import os\n",
    "openai_api_key = os.getenv(\"OPENAI_API_KEY\")\n",
    "\n",
    "if openai_api_key is not None:\n",
    "    print(\"OpenAI API Key found:\")\n",
    "else:\n",
    "    print(\"OpenAI API Key not found.\")"
   ]
  },
  {
   "cell_type": "code",
   "execution_count": 27,
   "metadata": {
    "id": "XHVE9uFb3Ajj"
   },
   "outputs": [],
   "source": [
    "from langchain.vectorstores import Chroma\n",
    "from langchain.embeddings import OpenAIEmbeddings\n",
    "from langchain.text_splitter import RecursiveCharacterTextSplitter\n",
    "from langchain.llms import OpenAI\n",
    "from langchain.chains import RetrievalQA\n",
    "from langchain.document_loaders import TextLoader\n",
    "from langchain.document_loaders import DirectoryLoader"
   ]
  },
  {
   "cell_type": "markdown",
   "metadata": {
    "id": "9UcQKUId3X2M"
   },
   "source": [
    "## Load multiple and process documents"
   ]
  },
  {
   "cell_type": "code",
   "execution_count": null,
   "metadata": {
    "id": "jl8luvx-_O7M"
   },
   "outputs": [],
   "source": []
  },
  {
   "cell_type": "code",
   "execution_count": 47,
   "metadata": {
    "colab": {
     "base_uri": "https://localhost:8080/"
    },
    "id": "PRSeXXc_3Ypj",
    "outputId": "5e26715f-fc99-4883-ddc7-e85b409948aa"
   },
   "outputs": [
    {
     "name": "stdout",
     "output_type": "stream",
     "text": [
      "[Document(page_content='레드마인\\n레드마인은 미디어로그에서 활용하고 있는\\xa0 PMS 도구 입니다.\\n유플러스와의\\xa0 SM / SI\\xa0 업무\\xa0 시 Task 관리에 유용하게 사용되고 있고\\xa0 슬랙은 업무간 소통도구로 활용되고 있습니다.', metadata={'source': 'articles_redmine/Redmine.txt'}), Document(page_content='{{include(문서)}}', metadata={'source': 'articles_redmine/Wiki.txt'}), Document(page_content='메시징플랫폼개발팀원 페르소나\\n최성순님은\\xa0 메시징플랫폼개발팀을 맡고 있고\\xa0 클라우드 네이티브 방식으로 기업메시징 중계서비스를 운영하고 싶어합니다.\\n최근에는 생성형 AI 에 관심을 가지고\\xa0 \"레드마인 활용 생성형 AI(ChatGPT)와 RAG 연동 POC\" 를\\xa0 진행하고 있고\\xa0 팀원들의\\xa0 생성형 AI 활용도를 높이기 위하여\\xa0 GPT Team 구독을 시작하였습니다.\\n김태균님은 메시징플랫폼개발팀에서 메시지허브 운영을 하고 있습니다.\\n메시징 서비스 경험은 이번이 처음이지만 메시지허브를 빨리 장악하고 싶어합니다.\\n메시지허브에 AI를 적용할 수 있는 방안을 모색하고 나아가서는 통합 사이트 구축 시 도움이 되길 바라고 있습니다.\\n황봉규님은 기업메시징 클라이언트개발운영 및 기술지원 업무를 하고 있습니다.\\n주요업무는 고객서버에 설치되는 클라이언트의 개발 및 오류 수정, 분석/설계,개발 투입공수 산정등입니다.\\n클라이언트는 sms,mms,rcs,알림톡등 핸드폰에서 수신가능한 메시지를 발송하는 자바로 만들어진 프로그램입니다.\\n기술지원은 다양한 고객 서버 환경에 클라이언트를 설치하고 장애대응을 해줍니다.\\n자바,스프링부트,다양한 os, 다양한 db 에 대한 기초 지식이 필요합니다.\\n조용필님은 기업메시징 엔진운영 업무를 하고 있습니다.\\nHadoop EcoSystem 솔루션 자료 조사 중으로 Big Data 시스템 구축을 하고자 함.\\n이동언님은 메시징플랫폼 개발 서비스를 맡고 있고 대용량 메시징 서비스 개발 및 운영 경험을 갖고 있습니다.\\n최근에는 클라우드 서비스 환경 기반 메시징 시스템 구축에 관심을 가지고 있고 생산형 AI를 통한 개발 효율화를 이루고 싶어 합니다.\\n팀원들과 생성형 AI 활용 방안을 공유하고 실제 서비스에 적용할 수 있도록 개인 역량 강화 진행 중입니다.\\n조재원님은 기업메시징 RCS서비스 엔진운영 업무를 하고 있습니다.\\nAWS를 활용한 Cloud 기반으로 서비스를 하고 있으며, EKS를 활용하여 안정적인 서비스를 운영하고 있습니다.\\n현재는 AWS 및 kubernetes에 대해 역량 강화를 하고 있습니다.\\n한용호님은 (주)미디어로그 기업/솔루션담당 메시징플랫폼개발팀에 소속되어 있으며,\\nLG U+에서 서비스하고 있는 기업메시징 중계 서비스 xMS 엔진 운영/개발 업무를 수행하고 있습니다.\\nLG U+ 기업메시징 중계 서비스는 현재 크게 xMS, RCS, 메시지허브 3개로 나눠져 있으며,\\n향후 메시지허브로 통합될 것으로 예상됨에 조금씩 준비하고 있습니다.\\n생산형 AI 구글 Gemini 제미나이를 효율적으로 사용했고, 최근에는 ChatGPT-4 쳇지피티4 를 최성순 팀장님 주도하에 팀원들과 함께 활용하고 있습니다.\\n팀원들과 함께 메시징 서비스에 AI 을 어떻게 적용/활용할 수 있을지 고민을 가지고 있습니다.', metadata={'source': 'articles_redmine/메시징플랫폼개발팀원_페르소나.txt'}), Document(page_content='\\n최성순님은  메시징플랫폼개발팀을 맡고 있고  클라우드 네이티브 방식으로 기업메시징 중계서비스를 운영하고 싶어합니다.\\n최근에는 생성형 AI 에 관심을 가지고  \"레드마인 활용 생성형 AI(ChatGPT)와 RAG 연동 POC\" 를  진행하고 있고  팀원들의  생성형 AI 활용도를 높이기 위하여  GPT Team 구독을 시작하였습니다.\\n\\n김태균님은 메시징플랫폼개발팀에서 메시지허브 운영을 하고 있습니다.\\n메시징 서비스 경험은 이번이 처음이지만 메시지허브를 빨리 장악하고 싶어합니다.\\n메시지허브에 AI를 적용할 수 있는 방안을 모색하고 나아가서는 통합 사이트 구축 시 도움이 되길 바라고 있습니다.\\n\\n\\n황봉규님은 기업메시징 클라이언트개발운영 및 기술지원 업무를 하고 있습니다.\\n주요업무는 고객서버에 설치되는 클라이언트의 개발 및 오류 수정, 분석/설계,개발 투입공수 산정등입니다.\\n클라이언트는 sms,mms,rcs,알림톡등 핸드폰에서 수신가능한 메시지를 발송하는 자바로 만들어진 프로그램입니다.\\n기술지원은 다양한 고객 서버 환경에 클라이언트를 설치하고 장애대응을 해줍니다.\\n자바,스프링부트,다양한 os, 다양한 db 에 대한 기초 지식이 필요합니다.\\n\\n\\n조용필님은 기업메시징 엔진운영 업무를 하고 있습니다.\\nHadoop EcoSystem 솔루션 자료 조사 중으로 Big Data 시스템 구축을 하고자 함.\\n\\n\\n이동언님은 메시징플랫폼 개발 서비스를 맡고 있고 대용량 메시징 서비스 개발 및 운영 경험을 갖고 있습니다.\\n최근에는 클라우드 서비스 환경 기반 메시징 시스템 구축에 관심을 가지고 있고 생산형 AI를 통한 개발 효율화를 이루고 싶어 합니다. \\n팀원들과 생성형 AI 활용 방안을 공유하고 실제 서비스에 적용할 수 있도록 개인 역량 강화 진행 중입니다.\\n\\n조재원님은 기업메시징 RCS서비스 엔진운영 업무를 하고 있습니다. \\nAWS를 활용한 Cloud 기반으로 서비스를 하고 있으며, EKS를 활용하여 안정적인 서비스를 운영하고 있습니다. \\n현재는 AWS 및 kubernetes에 대해 역량 강화를 하고 있습니다. \\n\\n한용호님은 (주)미디어로그 기업/솔루션담당 메시징플랫폼개발팀에 소속되어 있으며,\\nLG U+에서 서비스하고 있는 기업메시징 중계 서비스 xMS 엔진 운영/개발 업무를 수행하고 있습니다.\\nLG U+ 기업메시징 중계 서비스는 현재 크게 xMS, RCS, 메시지허브 3개로 나눠져 있으며,\\n향후 메시지허브로 통합될 것으로 예상됨에 조금씩 준비하고 있습니다.\\n생산형 AI 구글 Gemini 제미나이를 효율적으로 사용했고, 최근에는 ChatGPT-4 쳇지피티4 를 최성순 팀장님 주도하에 팀원들과 함께 활용하고 있습니다.\\n팀원들과 함께 메시징 서비스에 AI 을 어떻게 적용/활용할 수 있을지 고민을 가지고 있습니다.\\n', metadata={'source': 'articles_redmine/members.txt'}), Document(page_content='기업솔루션사업담당소개\\n기업솔루션사업 담당은 신귀매 담당입니다.\\n팀은\\nIT/플랫폼개발팀\\n이신희팀장\\xa0 ,\\nAI/Data&아키텍처팀\\xa0권영섭팀장 ,\\nDX솔루션개발팀\\xa0 이성호팀장 ,\\n메시징플랫폼개발팀\\n최성순 팀장\\xa0 으로\\xa0\\xa04개의 팀으로 구성 되어 있습니다.', metadata={'source': 'articles_redmine/기업솔루션사업담당소개.txt'}), Document(page_content='문서\\n{{child_pages}}', metadata={'source': 'articles_redmine/문서.txt'}), Document(page_content='미디어로그회사소개\\nMVNO 영역은\\xa0\\xa0기존\\xa0통신사의\\xa0통신비\\xa0거품을\\xa0없애, 5G/LTE\\xa0서비스를\\xa0합리적인\\xa0요금으로\\xa0제공합니다.\\xa0 LG\\xa0U\\n+\\n와\\xa0동일한\\xa0데이터\\xa0품질을\\xa0제공하며\\xa0실속있는\\xa0상품으로\\xa0통신비를\\xa0절약해드립니다. 다양한\\xa0폰을\\xa0합리적인\\xa0가격에\\xa0구매할\\xa0수\\xa0있고,\\xa0알뜰한\\xa0요금제로\\xa0스마트한\\xa0통신\\xa0문화를\\xa0선도합니다.\\n중고폰사업 영역은\\xa0 정교한\\xa0성능/외관\\xa0검사로\\xa0가격\\xa0변동을\\xa0최소화하는\\xa0투명성과\\xa0개인정보\\xa0이중\\xa0삭제를\\xa0통해\\xa0신뢰할\\xa0수\\xa0있는\\xa0온라인\\xa0중고폰\\xa0매입\\xa0플랫폼(셀로)을 제공합니다. 또한,\\xa0중고폰\\xa0매입을\\xa0넘어\\xa0‘가치의\\xa0선순환’을\\xa0통해 더\\xa0좋은\\xa0공유를\\xa0만들어가는\\xa0사회적\\xa0가치\\xa0실현을\\xa0위한\\xa0ESG\\xa0경영을\\xa0실천합니다.\\nMEDIA 영역은 LG\\xa0U\\n+\\nIPTV,\\xa0모바일\\xa0콘텐츠의\\xa0디지털\\xa0변환,\\xa0메타정보,\\xa0노출\\xa0편성,\\xa0콘텐츠\\xa0프로모션을\\xa0수행하고\\xa0있고,\\xa0U\\n+\\ntv/모바일tv\\xa0등의\\xa0다양한\\xa0미디어\\xa0플랫폼을\\xa0운영하고\\xa0있습니다.\\nICT 영역은 UI부터\\xa0서버\\xa0구축에\\xa0이르는\\xa0ICT\\xa0기술\\xa0토탈\\xa0라인업을\\xa0구축하고\\xa0있으며\\xa0U\\n+\\n통신\\xa0플랫폼에서\\xa0최고의\\xa0서비스를\\xa0제공합니다.\\n회사명\\n㈜미디어로그\\n설립년월\\n2000년 3월\\n대표이사\\n이상헌\\n매출/영업이익\\n2,953억 / 51억(2023년 기준)\\n본사위치\\n서울특별시 마포구 월드컵북로 416(상암동) LG유플러스\\n사업분야\\n알뜰폰(MVNO) : U+유모바일\\n|\\n중고폰사업: 셀로\\n|\\n미디어 서비스(VOD제작/편성/운영)\\n|\\n모바일 서비스 (LG U\\n+\\n서비스 운영)\\n|\\nICT 기술(Consulting, SI, SM, UI Design)', metadata={'source': 'articles_redmine/미디어로그회사소개.txt'})]\n"
     ]
    }
   ],
   "source": [
    "#loader = TextLoader('single_text_file.txt')   #싱글 파일 인 경우\n",
    "loader = DirectoryLoader('./articles_redmine', glob=\"*.txt\", loader_cls=TextLoader)  \n",
    "\n",
    "documents = loader.load()\n",
    "\n",
    "len(documents)\n",
    "print(documents)"
   ]
  },
  {
   "cell_type": "markdown",
   "metadata": {
    "id": "L39nElP4Wdu6"
   },
   "source": [
    "## Split texts"
   ]
  },
  {
   "cell_type": "code",
   "execution_count": 48,
   "metadata": {
    "colab": {
     "base_uri": "https://localhost:8080/"
    },
    "collapsed": true,
    "id": "3__nT0D4Fkmg",
    "jupyter": {
     "outputs_hidden": true
    },
    "outputId": "627d8121-d372-48d0-fcd8-c5e7c6934f1d"
   },
   "outputs": [
    {
     "name": "stdout",
     "output_type": "stream",
     "text": [
      "[Document(page_content='레드마인\\n레드마인은 미디어로그에서 활용하고 있는\\xa0 PMS 도구 입니다.\\n유플러스와의\\xa0 SM / SI\\xa0 업무\\xa0 시 Task 관리에 유용하게 사용되고 있고\\xa0 슬랙은 업무간 소통도구로 활용되고 있습니다.', metadata={'source': 'articles_redmine/Redmine.txt'}), Document(page_content='{{include(문서)}}', metadata={'source': 'articles_redmine/Wiki.txt'}), Document(page_content='메시징플랫폼개발팀원 페르소나\\n최성순님은\\xa0 메시징플랫폼개발팀을 맡고 있고\\xa0 클라우드 네이티브 방식으로 기업메시징 중계서비스를 운영하고 싶어합니다.\\n최근에는 생성형 AI 에 관심을 가지고\\xa0 \"레드마인 활용 생성형 AI(ChatGPT)와 RAG 연동 POC\" 를\\xa0 진행하고 있고\\xa0 팀원들의\\xa0 생성형 AI 활용도를 높이기 위하여\\xa0 GPT Team 구독을 시작하였습니다.\\n김태균님은 메시징플랫폼개발팀에서 메시지허브 운영을 하고 있습니다.\\n메시징 서비스 경험은 이번이 처음이지만 메시지허브를 빨리 장악하고 싶어합니다.\\n메시지허브에 AI를 적용할 수 있는 방안을 모색하고 나아가서는 통합 사이트 구축 시 도움이 되길 바라고 있습니다.\\n황봉규님은 기업메시징 클라이언트개발운영 및 기술지원 업무를 하고 있습니다.\\n주요업무는 고객서버에 설치되는 클라이언트의 개발 및 오류 수정, 분석/설계,개발 투입공수 산정등입니다.\\n클라이언트는 sms,mms,rcs,알림톡등 핸드폰에서 수신가능한 메시지를 발송하는 자바로 만들어진 프로그램입니다.\\n기술지원은 다양한 고객 서버 환경에 클라이언트를 설치하고 장애대응을 해줍니다.\\n자바,스프링부트,다양한 os, 다양한 db 에 대한 기초 지식이 필요합니다.\\n조용필님은 기업메시징 엔진운영 업무를 하고 있습니다.\\nHadoop EcoSystem 솔루션 자료 조사 중으로 Big Data 시스템 구축을 하고자 함.\\n이동언님은 메시징플랫폼 개발 서비스를 맡고 있고 대용량 메시징 서비스 개발 및 운영 경험을 갖고 있습니다.\\n최근에는 클라우드 서비스 환경 기반 메시징 시스템 구축에 관심을 가지고 있고 생산형 AI를 통한 개발 효율화를 이루고 싶어 합니다.\\n팀원들과 생성형 AI 활용 방안을 공유하고 실제 서비스에 적용할 수 있도록 개인 역량 강화 진행 중입니다.\\n조재원님은 기업메시징 RCS서비스 엔진운영 업무를 하고 있습니다.\\nAWS를 활용한 Cloud 기반으로 서비스를 하고 있으며, EKS를 활용하여 안정적인 서비스를 운영하고 있습니다.', metadata={'source': 'articles_redmine/메시징플랫폼개발팀원_페르소나.txt'}), Document(page_content='팀원들과 생성형 AI 활용 방안을 공유하고 실제 서비스에 적용할 수 있도록 개인 역량 강화 진행 중입니다.\\n조재원님은 기업메시징 RCS서비스 엔진운영 업무를 하고 있습니다.\\nAWS를 활용한 Cloud 기반으로 서비스를 하고 있으며, EKS를 활용하여 안정적인 서비스를 운영하고 있습니다.\\n현재는 AWS 및 kubernetes에 대해 역량 강화를 하고 있습니다.\\n한용호님은 (주)미디어로그 기업/솔루션담당 메시징플랫폼개발팀에 소속되어 있으며,\\nLG U+에서 서비스하고 있는 기업메시징 중계 서비스 xMS 엔진 운영/개발 업무를 수행하고 있습니다.\\nLG U+ 기업메시징 중계 서비스는 현재 크게 xMS, RCS, 메시지허브 3개로 나눠져 있으며,\\n향후 메시지허브로 통합될 것으로 예상됨에 조금씩 준비하고 있습니다.\\n생산형 AI 구글 Gemini 제미나이를 효율적으로 사용했고, 최근에는 ChatGPT-4 쳇지피티4 를 최성순 팀장님 주도하에 팀원들과 함께 활용하고 있습니다.\\n팀원들과 함께 메시징 서비스에 AI 을 어떻게 적용/활용할 수 있을지 고민을 가지고 있습니다.', metadata={'source': 'articles_redmine/메시징플랫폼개발팀원_페르소나.txt'}), Document(page_content='최성순님은  메시징플랫폼개발팀을 맡고 있고  클라우드 네이티브 방식으로 기업메시징 중계서비스를 운영하고 싶어합니다.\\n최근에는 생성형 AI 에 관심을 가지고  \"레드마인 활용 생성형 AI(ChatGPT)와 RAG 연동 POC\" 를  진행하고 있고  팀원들의  생성형 AI 활용도를 높이기 위하여  GPT Team 구독을 시작하였습니다.\\n\\n김태균님은 메시징플랫폼개발팀에서 메시지허브 운영을 하고 있습니다.\\n메시징 서비스 경험은 이번이 처음이지만 메시지허브를 빨리 장악하고 싶어합니다.\\n메시지허브에 AI를 적용할 수 있는 방안을 모색하고 나아가서는 통합 사이트 구축 시 도움이 되길 바라고 있습니다.\\n\\n\\n황봉규님은 기업메시징 클라이언트개발운영 및 기술지원 업무를 하고 있습니다.\\n주요업무는 고객서버에 설치되는 클라이언트의 개발 및 오류 수정, 분석/설계,개발 투입공수 산정등입니다.\\n클라이언트는 sms,mms,rcs,알림톡등 핸드폰에서 수신가능한 메시지를 발송하는 자바로 만들어진 프로그램입니다.\\n기술지원은 다양한 고객 서버 환경에 클라이언트를 설치하고 장애대응을 해줍니다.\\n자바,스프링부트,다양한 os, 다양한 db 에 대한 기초 지식이 필요합니다.\\n\\n\\n조용필님은 기업메시징 엔진운영 업무를 하고 있습니다.\\nHadoop EcoSystem 솔루션 자료 조사 중으로 Big Data 시스템 구축을 하고자 함.\\n\\n\\n이동언님은 메시징플랫폼 개발 서비스를 맡고 있고 대용량 메시징 서비스 개발 및 운영 경험을 갖고 있습니다.\\n최근에는 클라우드 서비스 환경 기반 메시징 시스템 구축에 관심을 가지고 있고 생산형 AI를 통한 개발 효율화를 이루고 싶어 합니다. \\n팀원들과 생성형 AI 활용 방안을 공유하고 실제 서비스에 적용할 수 있도록 개인 역량 강화 진행 중입니다.', metadata={'source': 'articles_redmine/members.txt'}), Document(page_content='이동언님은 메시징플랫폼 개발 서비스를 맡고 있고 대용량 메시징 서비스 개발 및 운영 경험을 갖고 있습니다.\\n최근에는 클라우드 서비스 환경 기반 메시징 시스템 구축에 관심을 가지고 있고 생산형 AI를 통한 개발 효율화를 이루고 싶어 합니다. \\n팀원들과 생성형 AI 활용 방안을 공유하고 실제 서비스에 적용할 수 있도록 개인 역량 강화 진행 중입니다.\\n\\n조재원님은 기업메시징 RCS서비스 엔진운영 업무를 하고 있습니다. \\nAWS를 활용한 Cloud 기반으로 서비스를 하고 있으며, EKS를 활용하여 안정적인 서비스를 운영하고 있습니다. \\n현재는 AWS 및 kubernetes에 대해 역량 강화를 하고 있습니다. \\n\\n한용호님은 (주)미디어로그 기업/솔루션담당 메시징플랫폼개발팀에 소속되어 있으며,\\nLG U+에서 서비스하고 있는 기업메시징 중계 서비스 xMS 엔진 운영/개발 업무를 수행하고 있습니다.\\nLG U+ 기업메시징 중계 서비스는 현재 크게 xMS, RCS, 메시지허브 3개로 나눠져 있으며,\\n향후 메시지허브로 통합될 것으로 예상됨에 조금씩 준비하고 있습니다.\\n생산형 AI 구글 Gemini 제미나이를 효율적으로 사용했고, 최근에는 ChatGPT-4 쳇지피티4 를 최성순 팀장님 주도하에 팀원들과 함께 활용하고 있습니다.\\n팀원들과 함께 메시징 서비스에 AI 을 어떻게 적용/활용할 수 있을지 고민을 가지고 있습니다.', metadata={'source': 'articles_redmine/members.txt'}), Document(page_content='기업솔루션사업담당소개\\n기업솔루션사업 담당은 신귀매 담당입니다.\\n팀은\\nIT/플랫폼개발팀\\n이신희팀장\\xa0 ,\\nAI/Data&아키텍처팀\\xa0권영섭팀장 ,\\nDX솔루션개발팀\\xa0 이성호팀장 ,\\n메시징플랫폼개발팀\\n최성순 팀장\\xa0 으로\\xa0\\xa04개의 팀으로 구성 되어 있습니다.', metadata={'source': 'articles_redmine/기업솔루션사업담당소개.txt'}), Document(page_content='문서\\n{{child_pages}}', metadata={'source': 'articles_redmine/문서.txt'}), Document(page_content='미디어로그회사소개\\nMVNO 영역은\\xa0\\xa0기존\\xa0통신사의\\xa0통신비\\xa0거품을\\xa0없애, 5G/LTE\\xa0서비스를\\xa0합리적인\\xa0요금으로\\xa0제공합니다.\\xa0 LG\\xa0U\\n+\\n와\\xa0동일한\\xa0데이터\\xa0품질을\\xa0제공하며\\xa0실속있는\\xa0상품으로\\xa0통신비를\\xa0절약해드립니다. 다양한\\xa0폰을\\xa0합리적인\\xa0가격에\\xa0구매할\\xa0수\\xa0있고,\\xa0알뜰한\\xa0요금제로\\xa0스마트한\\xa0통신\\xa0문화를\\xa0선도합니다.\\n중고폰사업 영역은\\xa0 정교한\\xa0성능/외관\\xa0검사로\\xa0가격\\xa0변동을\\xa0최소화하는\\xa0투명성과\\xa0개인정보\\xa0이중\\xa0삭제를\\xa0통해\\xa0신뢰할\\xa0수\\xa0있는\\xa0온라인\\xa0중고폰\\xa0매입\\xa0플랫폼(셀로)을 제공합니다. 또한,\\xa0중고폰\\xa0매입을\\xa0넘어\\xa0‘가치의\\xa0선순환’을\\xa0통해 더\\xa0좋은\\xa0공유를\\xa0만들어가는\\xa0사회적\\xa0가치\\xa0실현을\\xa0위한\\xa0ESG\\xa0경영을\\xa0실천합니다.\\nMEDIA 영역은 LG\\xa0U\\n+\\nIPTV,\\xa0모바일\\xa0콘텐츠의\\xa0디지털\\xa0변환,\\xa0메타정보,\\xa0노출\\xa0편성,\\xa0콘텐츠\\xa0프로모션을\\xa0수행하고\\xa0있고,\\xa0U\\n+\\ntv/모바일tv\\xa0등의\\xa0다양한\\xa0미디어\\xa0플랫폼을\\xa0운영하고\\xa0있습니다.\\nICT 영역은 UI부터\\xa0서버\\xa0구축에\\xa0이르는\\xa0ICT\\xa0기술\\xa0토탈\\xa0라인업을\\xa0구축하고\\xa0있으며\\xa0U\\n+\\n통신\\xa0플랫폼에서\\xa0최고의\\xa0서비스를\\xa0제공합니다.\\n회사명\\n㈜미디어로그\\n설립년월\\n2000년 3월\\n대표이사\\n이상헌\\n매출/영업이익\\n2,953억 / 51억(2023년 기준)\\n본사위치\\n서울특별시 마포구 월드컵북로 416(상암동) LG유플러스\\n사업분야\\n알뜰폰(MVNO) : U+유모바일\\n|\\n중고폰사업: 셀로\\n|\\n미디어 서비스(VOD제작/편성/운영)\\n|\\n모바일 서비스 (LG U\\n+\\n서비스 운영)\\n|\\nICT 기술(Consulting, SI, SM, UI Design)', metadata={'source': 'articles_redmine/미디어로그회사소개.txt'})]\n"
     ]
    }
   ],
   "source": [
    "text_splitter = RecursiveCharacterTextSplitter(chunk_size=1000, chunk_overlap=200)\n",
    "texts = text_splitter.split_documents(documents)\n",
    "\n",
    "len(texts)\n",
    "#print(texts)"
   ]
  },
  {
   "cell_type": "code",
   "execution_count": 39,
   "metadata": {
    "colab": {
     "base_uri": "https://localhost:8080/"
    },
    "id": "Bg6-9jwU4ja_",
    "outputId": "6d67c82f-5786-47cc-8da8-787e8c26ae30"
   },
   "outputs": [
    {
     "data": {
      "text/plain": [
       "[Document(page_content='메시징플랫폼개발팀원 페르소나\\n최성순님은\\xa0 메시징플랫폼개발팀을 맡고 있고\\xa0 클라우드 네이티브 방식으로 기업메시징 중계서비스를 운영하고 싶어합니다.\\n최근에는 생성형 AI 에 관심을 가지고\\xa0 \"레드마인 활용 생성형 AI(ChatGPT)와 RAG 연동 POC\" 를\\xa0 진행하고 있고\\xa0 팀원들의\\xa0 생성형 AI 활용도를 높이기 위하여\\xa0 GPT Team 구독을 시작하였습니다.\\n김태균님은 메시징플랫폼개발팀에서 메시지허브 운영을 하고 있습니다.\\n메시징 서비스 경험은 이번이 처음이지만 메시지허브를 빨리 장악하고 싶어합니다.\\n메시지허브에 AI를 적용할 수 있는 방안을 모색하고 나아가서는 통합 사이트 구축 시 도움이 되길 바라고 있습니다.\\n황봉규님은 기업메시징 클라이언트개발운영 및 기술지원 업무를 하고 있습니다.\\n주요업무는 고객서버에 설치되는 클라이언트의 개발 및 오류 수정, 분석/설계,개발 투입공수 산정등입니다.\\n클라이언트는 sms,mms,rcs,알림톡등 핸드폰에서 수신가능한 메시지를 발송하는 자바로 만들어진 프로그램입니다.\\n기술지원은 다양한 고객 서버 환경에 클라이언트를 설치하고 장애대응을 해줍니다.\\n자바,스프링부트,다양한 os, 다양한 db 에 대한 기초 지식이 필요합니다.\\n조용필님은 기업메시징 엔진운영 업무를 하고 있습니다.\\nHadoop EcoSystem 솔루션 자료 조사 중으로 Big Data 시스템 구축을 하고자 함.\\n이동언님은 메시징플랫폼 개발 서비스를 맡고 있고 대용량 메시징 서비스 개발 및 운영 경험을 갖고 있습니다.\\n최근에는 클라우드 서비스 환경 기반 메시징 시스템 구축에 관심을 가지고 있고 생산형 AI를 통한 개발 효율화를 이루고 싶어 합니다.\\n팀원들과 생성형 AI 활용 방안을 공유하고 실제 서비스에 적용할 수 있도록 개인 역량 강화 진행 중입니다.\\n조재원님은 기업메시징 RCS서비스 엔진운영 업무를 하고 있습니다.\\nAWS를 활용한 Cloud 기반으로 서비스를 하고 있으며, EKS를 활용하여 안정적인 서비스를 운영하고 있습니다.', metadata={'source': 'articles_redmine/메시징플랫폼개발팀원_페르소나.txt'}),\n",
       " Document(page_content='팀원들과 생성형 AI 활용 방안을 공유하고 실제 서비스에 적용할 수 있도록 개인 역량 강화 진행 중입니다.\\n조재원님은 기업메시징 RCS서비스 엔진운영 업무를 하고 있습니다.\\nAWS를 활용한 Cloud 기반으로 서비스를 하고 있으며, EKS를 활용하여 안정적인 서비스를 운영하고 있습니다.\\n현재는 AWS 및 kubernetes에 대해 역량 강화를 하고 있습니다.\\n한용호님은 (주)미디어로그 기업/솔루션담당 메시징플랫폼개발팀에 소속되어 있으며,\\nLG U+에서 서비스하고 있는 기업메시징 중계 서비스 xMS 엔진 운영/개발 업무를 수행하고 있습니다.\\nLG U+ 기업메시징 중계 서비스는 현재 크게 xMS, RCS, 메시지허브 3개로 나눠져 있으며,\\n향후 메시지허브로 통합될 것으로 예상됨에 조금씩 준비하고 있습니다.\\n생산형 AI 구글 Gemini 제미나이를 효율적으로 사용했고, 최근에는 ChatGPT-4 쳇지피티4 를 최성순 팀장님 주도하에 팀원들과 함께 활용하고 있습니다.\\n팀원들과 함께 메시징 서비스에 AI 을 어떻게 적용/활용할 수 있을지 고민을 가지고 있습니다.', metadata={'source': 'articles_redmine/메시징플랫폼개발팀원_페르소나.txt'})]"
      ]
     },
     "execution_count": 39,
     "metadata": {},
     "output_type": "execute_result"
    }
   ],
   "source": [
    "texts[2:4]"
   ]
  },
  {
   "cell_type": "markdown",
   "metadata": {
    "id": "YsYsIy8F4cdm"
   },
   "source": [
    "## Create Chroma DB\n",
    "\n",
    "1. Text -> Embbedings\n",
    "2. `db` 폴더에 데이터 저장\n",
    "3. DB 초기화\n",
    "4. `db` 폴더로부터 DB 로드"
   ]
  },
  {
   "cell_type": "code",
   "execution_count": 49,
   "metadata": {
    "colab": {
     "base_uri": "https://localhost:8080/",
     "height": 448
    },
    "id": "Q_eTIZwf4Dk2",
    "outputId": "fa09dc73-f5dc-4589-cc17-d63e57ce0aa4"
   },
   "outputs": [],
   "source": [
    "persist_directory = 'db'\n",
    "\n",
    "embedding = OpenAIEmbeddings()\n",
    "\n",
    "vectordb = Chroma.from_documents(\n",
    "    documents=texts,\n",
    "    embedding=embedding,\n",
    "    persist_directory=persist_directory)"
   ]
  },
  {
   "cell_type": "code",
   "execution_count": 50,
   "metadata": {
    "id": "uRfD_Te-47lb"
   },
   "outputs": [],
   "source": [
    "vectordb.persist()\n",
    "vectordb = None"
   ]
  },
  {
   "cell_type": "code",
   "execution_count": 51,
   "metadata": {
    "id": "A-h1y_eAHmD-"
   },
   "outputs": [],
   "source": [
    "vectordb = Chroma(\n",
    "    persist_directory=persist_directory,\n",
    "    embedding_function=embedding)"
   ]
  },
  {
   "cell_type": "markdown",
   "metadata": {
    "id": "siLXR-XT0JoI"
   },
   "source": [
    "## Make a retriever"
   ]
  },
  {
   "cell_type": "code",
   "execution_count": 52,
   "metadata": {
    "id": "6ObunFU30Lxh"
   },
   "outputs": [],
   "source": [
    "retriever = vectordb.as_retriever()"
   ]
  },
  {
   "cell_type": "code",
   "execution_count": 61,
   "metadata": {
    "colab": {
     "base_uri": "https://localhost:8080/"
    },
    "id": "cYA-H59u0Skn",
    "outputId": "2c7b654e-b152-4971-c5b4-96ca19f0e6af"
   },
   "outputs": [
    {
     "name": "stdout",
     "output_type": "stream",
     "text": [
      "articles_redmine/미디어로그회사소개.txt\n",
      "articles_redmine/미디어로그회사소개.txt\n",
      "articles_redmine/members.txt\n",
      "articles_redmine/members.txt\n"
     ]
    }
   ],
   "source": [
    "#docs = retriever.get_relevant_documents(\"최성순은 어떤 사람?\")\n",
    "docs = retriever.get_relevant_documents(\"미디어로그 대표는?\")\n",
    "\n",
    "for doc in docs:\n",
    "    print(doc.metadata[\"source\"])"
   ]
  },
  {
   "cell_type": "markdown",
   "metadata": {
    "id": "h3mZszDFW5aw"
   },
   "source": [
    "### 결과를 k개 반환"
   ]
  },
  {
   "cell_type": "code",
   "execution_count": 42,
   "metadata": {
    "id": "jVWgPJXs1yRq"
   },
   "outputs": [],
   "source": [
    "retriever = vectordb.as_retriever(search_kwargs={\"k\": 3})"
   ]
  },
  {
   "cell_type": "code",
   "execution_count": 44,
   "metadata": {
    "colab": {
     "base_uri": "https://localhost:8080/"
    },
    "id": "58fAAOHfVLeM",
    "outputId": "23113592-921e-48c4-978a-50868f19ce78"
   },
   "outputs": [
    {
     "name": "stdout",
     "output_type": "stream",
     "text": [
      "articles_redmine/Wiki.txt\n",
      "arti_partner/members.txt\n",
      "articles_redmine/members.txt\n"
     ]
    }
   ],
   "source": [
    "docs = retriever.get_relevant_documents(\"신귀매는?\")\n",
    "\n",
    "for doc in docs:\n",
    "    print(doc.metadata[\"source\"])"
   ]
  },
  {
   "cell_type": "markdown",
   "metadata": {
    "id": "4Ia-4OXa5IeP"
   },
   "source": [
    "## Make a chain"
   ]
  },
  {
   "cell_type": "code",
   "execution_count": 62,
   "metadata": {
    "id": "MGx8XblM4shW"
   },
   "outputs": [],
   "source": [
    "qa_chain = RetrievalQA.from_chain_type(\n",
    "    llm=OpenAI(),\n",
    "    chain_type=\"stuff\",\n",
    "    retriever=retriever,\n",
    "    return_source_documents=True)"
   ]
  },
  {
   "cell_type": "code",
   "execution_count": 63,
   "metadata": {
    "id": "LZEo26mw8e5k"
   },
   "outputs": [],
   "source": [
    "def process_llm_response(llm_response):\n",
    "    print(llm_response['result'])\n",
    "    print('\\n\\nSources:')\n",
    "    for source in llm_response[\"source_documents\"]:\n",
    "        print(source.metadata['source'])"
   ]
  },
  {
   "cell_type": "markdown",
   "metadata": {
    "id": "RjyrGZyeW_iO"
   },
   "source": [
    "## Query"
   ]
  },
  {
   "cell_type": "code",
   "execution_count": 64,
   "metadata": {
    "colab": {
     "base_uri": "https://localhost:8080/"
    },
    "id": "wKfX4vX-5RFT",
    "outputId": "e81c8f24-47bd-4248-cbcb-7f5561f0fa84"
   },
   "outputs": [
    {
     "name": "stdout",
     "output_type": "stream",
     "text": [
      " 이상헌\n",
      "\n",
      "\n",
      "Sources:\n",
      "articles_redmine/미디어로그회사소개.txt\n",
      "articles_redmine/미디어로그회사소개.txt\n",
      "articles_redmine/members.txt\n",
      "articles_redmine/members.txt\n"
     ]
    }
   ],
   "source": [
    "#query = \"How much money did Pando raise?\"\n",
    "query = \"미디어로그 대표는 ?\"\n",
    "llm_response = qa_chain(query)\n",
    "process_llm_response(llm_response)"
   ]
  },
  {
   "cell_type": "code",
   "execution_count": 65,
   "metadata": {},
   "outputs": [
    {
     "data": {
      "text/plain": [
       "{'query': '미디어로그 대표는 ?',\n",
       " 'result': ' 이상헌',\n",
       " 'source_documents': [Document(page_content='미디어로그회사소개\\nMVNO 영역은\\xa0\\xa0기존\\xa0통신사의\\xa0통신비\\xa0거품을\\xa0없애, 5G/LTE\\xa0서비스를\\xa0합리적인\\xa0요금으로\\xa0제공합니다.\\xa0 LG\\xa0U\\n+\\n와\\xa0동일한\\xa0데이터\\xa0품질을\\xa0제공하며\\xa0실속있는\\xa0상품으로\\xa0통신비를\\xa0절약해드립니다. 다양한\\xa0폰을\\xa0합리적인\\xa0가격에\\xa0구매할\\xa0수\\xa0있고,\\xa0알뜰한\\xa0요금제로\\xa0스마트한\\xa0통신\\xa0문화를\\xa0선도합니다.\\n중고폰사업 영역은\\xa0 정교한\\xa0성능/외관\\xa0검사로\\xa0가격\\xa0변동을\\xa0최소화하는\\xa0투명성과\\xa0개인정보\\xa0이중\\xa0삭제를\\xa0통해\\xa0신뢰할\\xa0수\\xa0있는\\xa0온라인\\xa0중고폰\\xa0매입\\xa0플랫폼(셀로)을 제공합니다. 또한,\\xa0중고폰\\xa0매입을\\xa0넘어\\xa0‘가치의\\xa0선순환’을\\xa0통해 더\\xa0좋은\\xa0공유를\\xa0만들어가는\\xa0사회적\\xa0가치\\xa0실현을\\xa0위한\\xa0ESG\\xa0경영을\\xa0실천합니다.\\nMEDIA 영역은 LG\\xa0U\\n+\\nIPTV,\\xa0모바일\\xa0콘텐츠의\\xa0디지털\\xa0변환,\\xa0메타정보,\\xa0노출\\xa0편성,\\xa0콘텐츠\\xa0프로모션을\\xa0수행하고\\xa0있고,\\xa0U\\n+\\ntv/모바일tv\\xa0등의\\xa0다양한\\xa0미디어\\xa0플랫폼을\\xa0운영하고\\xa0있습니다.\\nICT 영역은 UI부터\\xa0서버\\xa0구축에\\xa0이르는\\xa0ICT\\xa0기술\\xa0토탈\\xa0라인업을\\xa0구축하고\\xa0있으며\\xa0U\\n+\\n통신\\xa0플랫폼에서\\xa0최고의\\xa0서비스를\\xa0제공합니다.\\n회사명\\n㈜미디어로그\\n설립년월\\n2000년 3월\\n대표이사\\n이상헌\\n매출/영업이익\\n2,953억 / 51억(2023년 기준)\\n본사위치\\n서울특별시 마포구 월드컵북로 416(상암동) LG유플러스\\n사업분야\\n알뜰폰(MVNO) : U+유모바일\\n|\\n중고폰사업: 셀로\\n|\\n미디어 서비스(VOD제작/편성/운영)\\n|\\n모바일 서비스 (LG U\\n+\\n서비스 운영)\\n|\\nICT 기술(Consulting, SI, SM, UI Design)', metadata={'source': 'articles_redmine/미디어로그회사소개.txt'}),\n",
       "  Document(page_content='미디어로그회사소개\\nMVNO 영역은\\xa0\\xa0기존\\xa0통신사의\\xa0통신비\\xa0거품을\\xa0없애, 5G/LTE\\xa0서비스를\\xa0합리적인\\xa0요금으로\\xa0제공합니다.\\xa0 LG\\xa0U\\n+\\n와\\xa0동일한\\xa0데이터\\xa0품질을\\xa0제공하며\\xa0실속있는\\xa0상품으로\\xa0통신비를\\xa0절약해드립니다. 다양한\\xa0폰을\\xa0합리적인\\xa0가격에\\xa0구매할\\xa0수\\xa0있고,\\xa0알뜰한\\xa0요금제로\\xa0스마트한\\xa0통신\\xa0문화를\\xa0선도합니다.\\n중고폰사업 영역은\\xa0 정교한\\xa0성능/외관\\xa0검사로\\xa0가격\\xa0변동을\\xa0최소화하는\\xa0투명성과\\xa0개인정보\\xa0이중\\xa0삭제를\\xa0통해\\xa0신뢰할\\xa0수\\xa0있는\\xa0온라인\\xa0중고폰\\xa0매입\\xa0플랫폼(셀로)을 제공합니다. 또한,\\xa0중고폰\\xa0매입을\\xa0넘어\\xa0‘가치의\\xa0선순환’을\\xa0통해 더\\xa0좋은\\xa0공유를\\xa0만들어가는\\xa0사회적\\xa0가치\\xa0실현을\\xa0위한\\xa0ESG\\xa0경영을\\xa0실천합니다.\\nMEDIA 영역은 LG\\xa0U\\n+\\nIPTV,\\xa0모바일\\xa0콘텐츠의\\xa0디지털\\xa0변환,\\xa0메타정보,\\xa0노출\\xa0편성,\\xa0콘텐츠\\xa0프로모션을\\xa0수행하고\\xa0있고,\\xa0U\\n+\\ntv/모바일tv\\xa0등의\\xa0다양한\\xa0미디어\\xa0플랫폼을\\xa0운영하고\\xa0있습니다.\\nICT 영역은 UI부터\\xa0서버\\xa0구축에\\xa0이르는\\xa0ICT\\xa0기술\\xa0토탈\\xa0라인업을\\xa0구축하고\\xa0있으며\\xa0U\\n+\\n통신\\xa0플랫폼에서\\xa0최고의\\xa0서비스를\\xa0제공합니다.\\n회사명\\n㈜미디어로그\\n설립년월\\n2000년 3월\\n대표이사\\n이상헌\\n매출/영업이익\\n2,953억 / 51억(2023년 기준)\\n본사위치\\n서울특별시 마포구 월드컵북로 416(상암동) LG유플러스\\n사업분야\\n알뜰폰(MVNO) : U+유모바일\\n|\\n중고폰사업: 셀로\\n|\\n미디어 서비스(VOD제작/편성/운영)\\n|\\n모바일 서비스 (LG U\\n+\\n서비스 운영)\\n|\\nICT 기술(Consulting, SI, SM, UI Design)', metadata={'source': 'articles_redmine/미디어로그회사소개.txt'}),\n",
       "  Document(page_content='이동언님은 메시징플랫폼 개발 서비스를 맡고 있고 대용량 메시징 서비스 개발 및 운영 경험을 갖고 있습니다.\\n최근에는 클라우드 서비스 환경 기반 메시징 시스템 구축에 관심을 가지고 있고 생산형 AI를 통한 개발 효율화를 이루고 싶어 합니다. \\n팀원들과 생성형 AI 활용 방안을 공유하고 실제 서비스에 적용할 수 있도록 개인 역량 강화 진행 중입니다.\\n\\n조재원님은 기업메시징 RCS서비스 엔진운영 업무를 하고 있습니다. \\nAWS를 활용한 Cloud 기반으로 서비스를 하고 있으며, EKS를 활용하여 안정적인 서비스를 운영하고 있습니다. \\n현재는 AWS 및 kubernetes에 대해 역량 강화를 하고 있습니다. \\n\\n한용호님은 (주)미디어로그 기업/솔루션담당 메시징플랫폼개발팀에 소속되어 있으며,\\nLG U+에서 서비스하고 있는 기업메시징 중계 서비스 xMS 엔진 운영/개발 업무를 수행하고 있습니다.\\nLG U+ 기업메시징 중계 서비스는 현재 크게 xMS, RCS, 메시지허브 3개로 나눠져 있으며,\\n향후 메시지허브로 통합될 것으로 예상됨에 조금씩 준비하고 있습니다.\\n생산형 AI 구글 Gemini 제미나이를 효율적으로 사용했고, 최근에는 ChatGPT-4 쳇지피티4 를 최성순 팀장님 주도하에 팀원들과 함께 활용하고 있습니다.\\n팀원들과 함께 메시징 서비스에 AI 을 어떻게 적용/활용할 수 있을지 고민을 가지고 있습니다.', metadata={'source': 'articles_redmine/members.txt'}),\n",
       "  Document(page_content='이동언님은 메시징플랫폼 개발 서비스를 맡고 있고 대용량 메시징 서비스 개발 및 운영 경험을 갖고 있습니다.\\n최근에는 클라우드 서비스 환경 기반 메시징 시스템 구축에 관심을 가지고 있고 생산형 AI를 통한 개발 효율화를 이루고 싶어 합니다. \\n팀원들과 생성형 AI 활용 방안을 공유하고 실제 서비스에 적용할 수 있도록 개인 역량 강화 진행 중입니다.\\n\\n조재원님은 기업메시징 RCS서비스 엔진운영 업무를 하고 있습니다. \\nAWS를 활용한 Cloud 기반으로 서비스를 하고 있으며, EKS를 활용하여 안정적인 서비스를 운영하고 있습니다. \\n현재는 AWS 및 kubernetes에 대해 역량 강화를 하고 있습니다. \\n\\n한용호님은 (주)미디어로그 기업/솔루션담당 메시징플랫폼개발팀에 소속되어 있으며,\\nLG U+에서 서비스하고 있는 기업메시징 중계 서비스 xMS 엔진 운영/개발 업무를 수행하고 있습니다.\\nLG U+ 기업메시징 중계 서비스는 현재 크게 xMS, RCS, 메시지허브 3개로 나눠져 있으며,\\n향후 메시지허브로 통합될 것으로 예상됨에 조금씩 준비하고 있습니다.\\n생산형 AI 구글 Gemini 제미나이를 효율적으로 사용했고, 최근에는 ChatGPT-4 쳇지피티4 를 최성순 팀장님 주도하에 팀원들과 함께 활용하고 있습니다.\\n팀원들과 함께 메시징 서비스에 AI 을 어떻게 적용/활용할 수 있을지 고민을 가지고 있습니다.', metadata={'source': 'articles_redmine/members.txt'})]}"
      ]
     },
     "execution_count": 65,
     "metadata": {},
     "output_type": "execute_result"
    }
   ],
   "source": [
    "llm_response"
   ]
  },
  {
   "cell_type": "code",
   "execution_count": 31,
   "metadata": {
    "colab": {
     "base_uri": "https://localhost:8080/"
    },
    "id": "wg-e6fh6rNwz",
    "outputId": "b8929f8a-269f-4461-9f61-42c4d53096b7"
   },
   "outputs": [
    {
     "name": "stdout",
     "output_type": "stream",
     "text": [
      " 최성순님, 이동언님\n",
      "\n",
      "\n",
      "Sources:\n",
      "arti_partner/members.txt\n",
      "arti_partner/members.txt\n",
      "arti_partner/members.txt\n"
     ]
    }
   ],
   "source": [
    "query = \"GPT를 잘 사용하는 사람은 ?\"\n",
    "llm_response = qa_chain(query)\n",
    "process_llm_response(llm_response)"
   ]
  },
  {
   "cell_type": "code",
   "execution_count": 34,
   "metadata": {},
   "outputs": [
    {
     "data": {
      "text/plain": [
       "{'query': 'GPT를 잘 사용하는 사람은 ?',\n",
       " 'result': ' 최성순님, 이동언님',\n",
       " 'source_documents': [Document(page_content='최성순님은  메시징플랫폼개발팀을 맡고 있고  클라우드 네이티브 방식으로 기업메시징 중계서비스를 운영하고 싶어합니다.\\n최근에는 생성형 AI 에 관심을 가지고  \"레드마인 활용 생성형 AI(ChatGPT)와 RAG 연동 POC\" 를  진행하고 있고  팀원들의  생성형 AI 활용도를 높이기 위하여  GPT Team 구독을 시작하였습니다.\\n\\n김태균님은 메시징플랫폼개발팀에서 메시지허브 운영을 하고 있습니다.\\n메시징 서비스 경험은 이번이 처음이지만 메시지허브를 빨리 장악하고 싶어합니다.\\n메시지허브에 AI를 적용할 수 있는 방안을 모색하고 나아가서는 통합 사이트 구축 시 도움이 되길 바라고 있습니다.\\n\\n\\n황봉규님은 기업메시징 클라이언트개발운영 및 기술지원 업무를 하고 있습니다.\\n주요업무는 고객서버에 설치되는 클라이언트의 개발 및 오류 수정, 분석/설계,개발 투입공수 산정등입니다.\\n클라이언트는 sms,mms,rcs,알림톡등 핸드폰에서 수신가능한 메시지를 발송하는 자바로 만들어진 프로그램입니다.\\n기술지원은 다양한 고객 서버 환경에 클라이언트를 설치하고 장애대응을 해줍니다.\\n자바,스프링부트,다양한 os, 다양한 db 에 대한 기초 지식이 필요합니다.\\n\\n\\n조용필님은 기업메시징 엔진운영 업무를 하고 있습니다.\\nHadoop EcoSystem 솔루션 자료 조사 중으로 Big Data 시스템 구축을 하고자 함.\\n\\n\\n이동언님은 메시징플랫폼 개발 서비스를 맡고 있고 대용량 메시징 서비스 개발 및 운영 경험을 갖고 있습니다.\\n최근에는 클라우드 서비스 환경 기반 메시징 시스템 구축에 관심을 가지고 있고 생산형 AI를 통한 개발 효율화를 이루고 싶어 합니다. \\n팀원들과 생성형 AI 활용 방안을 공유하고 실제 서비스에 적용할 수 있도록 개인 역량 강화 진행 중입니다.', metadata={'source': 'arti_partner/members.txt'}),\n",
       "  Document(page_content='최성순님은  메시징플랫폼개발팀을 맡고 있고  클라우드 네이티브 방식으로 기업메시징 중계서비스를 운영하고 싶어합니다.\\n최근에는 생성형 AI 에 관심을 가지고  \"레드마인 활용 생성형 AI(ChatGPT)와 RAG 연동 POC\" 를  진행하고 있고  팀원들의  생성형 AI 활용도를 높이기 위하여  GPT Team 구독을 시작하였습니다.\\n\\n김태균님은 메시징플랫폼개발팀에서 메시지허브 운영을 하고 있습니다.\\n메시징 서비스 경험은 이번이 처음이지만 메시지허브를 빨리 장악하고 싶어합니다.\\n메시지허브에 AI를 적용할 수 있는 방안을 모색하고 나아가서는 통합 사이트 구축 시 도움이 되길 바라고 있습니다.\\n\\n\\n황봉규님은 기업메시징 클라이언트개발운영 및 기술지원 업무를 하고 있습니다.\\n주요업무는 고객서버에 설치되는 클라이언트의 개발 및 오류 수정, 분석/설계,개발 투입공수 산정등입니다.\\n클라이언트는 sms,mms,rcs,알림톡등 핸드폰에서 수신가능한 메시지를 발송하는 자바로 만들어진 프로그램입니다.\\n기술지원은 다양한 고객 서버 환경에 클라이언트를 설치하고 장애대응을 해줍니다.\\n자바,스프링부트,다양한 os, 다양한 db 에 대한 기초 지식이 필요합니다.\\n\\n\\n조용필님은 기업메시징 엔진운영 업무를 하고 있습니다.\\nHadoop EcoSystem 솔루션 자료 조사 중으로 Big Data 시스템 구축을 하고자 함.\\n\\n\\n이동언님은 메시징플랫폼 개발 서비스를 맡고 있고 대용량 메시징 서비스 개발 및 운영 경험을 갖고 있습니다.\\n최근에는 클라우드 서비스 환경 기반 메시징 시스템 구축에 관심을 가지고 있고 생산형 AI를 통한 개발 효율화를 이루고 싶어 합니다. \\n팀원들과 생성형 AI 활용 방안을 공유하고 실제 서비스에 적용할 수 있도록 개인 역량 강화 진행 중입니다.', metadata={'source': 'arti_partner/members.txt'}),\n",
       "  Document(page_content='최성순님은  메시징플랫폼개발팀을 맡고 있고  클라우드 네이티브 방식으로 기업메시징 중계서비스를 운영하고 싶어합니다.\\n최근에는 생성형 AI 에 관심을 가지고  \"레드마인 활용 생성형 AI(ChatGPT)와 RAG 연동 POC\" 를  진행하고 있고  팀원들의  생성형 AI 활용도를 높이기 위하여  GPT Team 구독을 시작하였습니다.\\n\\n김태균님은 메시징플랫폼개발팀에서 메시지허브 운영을 하고 있습니다.\\n메시징 서비스 경험은 이번이 처음이지만 메시지허브를 빨리 장악하고 싶어합니다.\\n메시지허브에 AI를 적용할 수 있는 방안을 모색하고 나아가서는 통합 사이트 구축 시 도움이 되길 바라고 있습니다.\\n\\n\\n황봉규님은 기업메시징 클라이언트개발운영 및 기술지원 업무를 하고 있습니다.\\n주요업무는 고객서버에 설치되는 클라이언트의 개발 및 오류 수정, 분석/설계,개발 투입공수 산정등입니다.\\n클라이언트는 sms,mms,rcs,알림톡등 핸드폰에서 수신가능한 메시지를 발송하는 자바로 만들어진 프로그램입니다.\\n기술지원은 다양한 고객 서버 환경에 클라이언트를 설치하고 장애대응을 해줍니다.\\n자바,스프링부트,다양한 os, 다양한 db 에 대한 기초 지식이 필요합니다.\\n\\n\\n조용필님은 기업메시징 엔진운영 업무를 하고 있습니다.\\nHadoop EcoSystem 솔루션 자료 조사 중으로 Big Data 시스템 구축을 하고자 함.\\n\\n\\n이동언님은 메시징플랫폼 개발 서비스를 맡고 있고 대용량 메시징 서비스 개발 및 운영 경험을 갖고 있습니다.\\n최근에는 클라우드 서비스 환경 기반 메시징 시스템 구축에 관심을 가지고 있고 생산형 AI를 통한 개발 효율화를 이루고 싶어 합니다. \\n팀원들과 생성형 AI 활용 방안을 공유하고 실제 서비스에 적용할 수 있도록 개인 역량 강화 진행 중입니다.', metadata={'source': 'arti_partner/members.txt'})]}"
      ]
     },
     "execution_count": 34,
     "metadata": {},
     "output_type": "execute_result"
    }
   ],
   "source": [
    "llm_response"
   ]
  },
  {
   "cell_type": "code",
   "execution_count": 37,
   "metadata": {
    "colab": {
     "base_uri": "https://localhost:8080/"
    },
    "id": "692pHNkFrN5z",
    "outputId": "ade9a9c3-7da7-4f1b-eab5-cdc26f65fe19"
   },
   "outputs": [
    {
     "name": "stdout",
     "output_type": "stream",
     "text": [
      " 최성순 is the person in charge of the messaging platform development team and is interested in operating enterprise messaging relay services through a cloud-native approach. They are also working on utilizing AI and have subscribed to the GPT Team to increase the team's utilization of generative AI.\n",
      "\n",
      "\n",
      "Sources:\n",
      "arti_partner/members.txt\n",
      "arti_partner/members.txt\n",
      "arti_partner/members.txt\n"
     ]
    }
   ],
   "source": [
    "query = \"Who is 최성순?\"\n",
    "llm_response = qa_chain(query)\n",
    "process_llm_response(llm_response)"
   ]
  },
  {
   "cell_type": "code",
   "execution_count": 38,
   "metadata": {
    "id": "978QWCeJSRdu"
   },
   "outputs": [
    {
     "data": {
      "text/plain": [
       "{'query': 'Who is 최성순?',\n",
       " 'result': \" 최성순 is the person in charge of the messaging platform development team and is interested in operating enterprise messaging relay services through a cloud-native approach. They are also working on utilizing AI and have subscribed to the GPT Team to increase the team's utilization of generative AI.\",\n",
       " 'source_documents': [Document(page_content='최성순님은  메시징플랫폼개발팀을 맡고 있고  클라우드 네이티브 방식으로 기업메시징 중계서비스를 운영하고 싶어합니다.\\n최근에는 생성형 AI 에 관심을 가지고  \"레드마인 활용 생성형 AI(ChatGPT)와 RAG 연동 POC\" 를  진행하고 있고  팀원들의  생성형 AI 활용도를 높이기 위하여  GPT Team 구독을 시작하였습니다.\\n\\n김태균님은 메시징플랫폼개발팀에서 메시지허브 운영을 하고 있습니다.\\n메시징 서비스 경험은 이번이 처음이지만 메시지허브를 빨리 장악하고 싶어합니다.\\n메시지허브에 AI를 적용할 수 있는 방안을 모색하고 나아가서는 통합 사이트 구축 시 도움이 되길 바라고 있습니다.\\n\\n\\n황봉규님은 기업메시징 클라이언트개발운영 및 기술지원 업무를 하고 있습니다.\\n주요업무는 고객서버에 설치되는 클라이언트의 개발 및 오류 수정, 분석/설계,개발 투입공수 산정등입니다.\\n클라이언트는 sms,mms,rcs,알림톡등 핸드폰에서 수신가능한 메시지를 발송하는 자바로 만들어진 프로그램입니다.\\n기술지원은 다양한 고객 서버 환경에 클라이언트를 설치하고 장애대응을 해줍니다.\\n자바,스프링부트,다양한 os, 다양한 db 에 대한 기초 지식이 필요합니다.\\n\\n\\n조용필님은 기업메시징 엔진운영 업무를 하고 있습니다.\\nHadoop EcoSystem 솔루션 자료 조사 중으로 Big Data 시스템 구축을 하고자 함.\\n\\n\\n이동언님은 메시징플랫폼 개발 서비스를 맡고 있고 대용량 메시징 서비스 개발 및 운영 경험을 갖고 있습니다.\\n최근에는 클라우드 서비스 환경 기반 메시징 시스템 구축에 관심을 가지고 있고 생산형 AI를 통한 개발 효율화를 이루고 싶어 합니다. \\n팀원들과 생성형 AI 활용 방안을 공유하고 실제 서비스에 적용할 수 있도록 개인 역량 강화 진행 중입니다.', metadata={'source': 'arti_partner/members.txt'}),\n",
       "  Document(page_content='최성순님은  메시징플랫폼개발팀을 맡고 있고  클라우드 네이티브 방식으로 기업메시징 중계서비스를 운영하고 싶어합니다.\\n최근에는 생성형 AI 에 관심을 가지고  \"레드마인 활용 생성형 AI(ChatGPT)와 RAG 연동 POC\" 를  진행하고 있고  팀원들의  생성형 AI 활용도를 높이기 위하여  GPT Team 구독을 시작하였습니다.\\n\\n김태균님은 메시징플랫폼개발팀에서 메시지허브 운영을 하고 있습니다.\\n메시징 서비스 경험은 이번이 처음이지만 메시지허브를 빨리 장악하고 싶어합니다.\\n메시지허브에 AI를 적용할 수 있는 방안을 모색하고 나아가서는 통합 사이트 구축 시 도움이 되길 바라고 있습니다.\\n\\n\\n황봉규님은 기업메시징 클라이언트개발운영 및 기술지원 업무를 하고 있습니다.\\n주요업무는 고객서버에 설치되는 클라이언트의 개발 및 오류 수정, 분석/설계,개발 투입공수 산정등입니다.\\n클라이언트는 sms,mms,rcs,알림톡등 핸드폰에서 수신가능한 메시지를 발송하는 자바로 만들어진 프로그램입니다.\\n기술지원은 다양한 고객 서버 환경에 클라이언트를 설치하고 장애대응을 해줍니다.\\n자바,스프링부트,다양한 os, 다양한 db 에 대한 기초 지식이 필요합니다.\\n\\n\\n조용필님은 기업메시징 엔진운영 업무를 하고 있습니다.\\nHadoop EcoSystem 솔루션 자료 조사 중으로 Big Data 시스템 구축을 하고자 함.\\n\\n\\n이동언님은 메시징플랫폼 개발 서비스를 맡고 있고 대용량 메시징 서비스 개발 및 운영 경험을 갖고 있습니다.\\n최근에는 클라우드 서비스 환경 기반 메시징 시스템 구축에 관심을 가지고 있고 생산형 AI를 통한 개발 효율화를 이루고 싶어 합니다. \\n팀원들과 생성형 AI 활용 방안을 공유하고 실제 서비스에 적용할 수 있도록 개인 역량 강화 진행 중입니다.', metadata={'source': 'arti_partner/members.txt'}),\n",
       "  Document(page_content='최성순님은  메시징플랫폼개발팀을 맡고 있고  클라우드 네이티브 방식으로 기업메시징 중계서비스를 운영하고 싶어합니다.\\n최근에는 생성형 AI 에 관심을 가지고  \"레드마인 활용 생성형 AI(ChatGPT)와 RAG 연동 POC\" 를  진행하고 있고  팀원들의  생성형 AI 활용도를 높이기 위하여  GPT Team 구독을 시작하였습니다.\\n\\n김태균님은 메시징플랫폼개발팀에서 메시지허브 운영을 하고 있습니다.\\n메시징 서비스 경험은 이번이 처음이지만 메시지허브를 빨리 장악하고 싶어합니다.\\n메시지허브에 AI를 적용할 수 있는 방안을 모색하고 나아가서는 통합 사이트 구축 시 도움이 되길 바라고 있습니다.\\n\\n\\n황봉규님은 기업메시징 클라이언트개발운영 및 기술지원 업무를 하고 있습니다.\\n주요업무는 고객서버에 설치되는 클라이언트의 개발 및 오류 수정, 분석/설계,개발 투입공수 산정등입니다.\\n클라이언트는 sms,mms,rcs,알림톡등 핸드폰에서 수신가능한 메시지를 발송하는 자바로 만들어진 프로그램입니다.\\n기술지원은 다양한 고객 서버 환경에 클라이언트를 설치하고 장애대응을 해줍니다.\\n자바,스프링부트,다양한 os, 다양한 db 에 대한 기초 지식이 필요합니다.\\n\\n\\n조용필님은 기업메시징 엔진운영 업무를 하고 있습니다.\\nHadoop EcoSystem 솔루션 자료 조사 중으로 Big Data 시스템 구축을 하고자 함.\\n\\n\\n이동언님은 메시징플랫폼 개발 서비스를 맡고 있고 대용량 메시징 서비스 개발 및 운영 경험을 갖고 있습니다.\\n최근에는 클라우드 서비스 환경 기반 메시징 시스템 구축에 관심을 가지고 있고 생산형 AI를 통한 개발 효율화를 이루고 싶어 합니다. \\n팀원들과 생성형 AI 활용 방안을 공유하고 실제 서비스에 적용할 수 있도록 개인 역량 강화 진행 중입니다.', metadata={'source': 'arti_partner/members.txt'})]}"
      ]
     },
     "execution_count": 38,
     "metadata": {},
     "output_type": "execute_result"
    }
   ],
   "source": [
    "llm_response"
   ]
  }
 ],
 "metadata": {
  "colab": {
   "provenance": []
  },
  "kernelspec": {
   "display_name": "Python 3 (ipykernel)",
   "language": "python",
   "name": "python3"
  },
  "language_info": {
   "codemirror_mode": {
    "name": "ipython",
    "version": 3
   },
   "file_extension": ".py",
   "mimetype": "text/x-python",
   "name": "python",
   "nbconvert_exporter": "python",
   "pygments_lexer": "ipython3",
   "version": "3.10.12"
  }
 },
 "nbformat": 4,
 "nbformat_minor": 4
}
